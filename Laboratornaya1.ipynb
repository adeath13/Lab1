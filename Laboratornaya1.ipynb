{
 "cells": [
  {
   "cell_type": "markdown",
   "id": "b08bfb4e",
   "metadata": {},
   "source": [
    "<div align=\"center\">ОТЧЁТ: Лабораторная 1. Денисова Алена, 361 группа, КНиИТ, ПО </div>"
   ]
  },
  {
   "cell_type": "markdown",
   "id": "f491c767",
   "metadata": {},
   "source": [
    "1. Создадим в отдельной проекте четыре новых модуля"
   ]
  },
  {
   "cell_type": "markdown",
   "id": "b1728c17",
   "metadata": {},
   "source": [
    "![img1.jpg](Laboratornaya1/img1.jpg)"
   ]
  },
  {
   "cell_type": "markdown",
   "id": "5d835f35",
   "metadata": {},
   "source": [
    "![](https://sun9-29.userapi.com/impg/9OylfVReyvrcenpXkSJfh4SodyHt3RgbmqECUQ/afaU5KaLR5c.jpg?size=1280x665&quality=96&sign=7bb93ca095612e7688ce937ed23762bc&type=album)"
   ]
  },
  {
   "cell_type": "markdown",
   "id": "992a8ce1",
   "metadata": {},
   "source": [
    "2. Разместим 3й и 4й модули в пакет \"Biblio\""
   ]
  },
  {
   "cell_type": "markdown",
   "id": "aadc88ef",
   "metadata": {},
   "source": [
    "![](https://sun9-53.userapi.com/impg/g3TM9a9Xtr5e5jQLzvs1nhX1JSk14e_d--NqNQ/FbckruiouuI.jpg?size=644x521&quality=96&sign=cb546af1faa4541a5a85c4421c01e25d&type=album)"
   ]
  },
  {
   "cell_type": "markdown",
   "id": "436851d4",
   "metadata": {},
   "source": [
    "3. Заполняем 2й, 3й, 4й модули функциями и переменными"
   ]
  },
  {
   "cell_type": "markdown",
   "id": "eda1ae0c",
   "metadata": {},
   "source": [
    "![](https://sun9-65.userapi.com/impg/Mu8aCZzcAoQfZQ4hq2_wniOfbOUNveYemWDibA/GG8W5AGfaVo.jpg?size=1109x691&quality=96&sign=9ab7e0c291a7b3c56508de2be602bf48&type=album)"
   ]
  },
  {
   "cell_type": "markdown",
   "id": "e3d53ac3",
   "metadata": {},
   "source": [
    "4. Импортируем все необходимые нам элементы в 1й модуль"
   ]
  },
  {
   "cell_type": "markdown",
   "id": "7bf77240",
   "metadata": {},
   "source": [
    "![](https://sun9-58.userapi.com/impg/cmHN9W174V-rrNv0bgdFOexoh2fBSvYKkWXhDA/vcyszE3rkBY.jpg?size=717x303&quality=96&sign=71f36f9b1da9d51884ebf7af761cc4f3&type=album)"
   ]
  },
  {
   "cell_type": "markdown",
   "id": "4aaca486",
   "metadata": {},
   "source": [
    "5. Запустим код первого модуля, в который мы импортировали все остальные созданные и заполненные нами модули, проверим правильность работы"
   ]
  },
  {
   "cell_type": "markdown",
   "id": "5fc5f983",
   "metadata": {},
   "source": [
    "![](https://sun9-47.userapi.com/impg/Cr5CYVi5_vr1-ej9K7xyjZx6cT8vbgoVe1Ih1g/_6RUbjx-b4o.jpg?size=865x494&quality=96&sign=e4da429a13d388bbf85dd8e2fffd630f&type=album)"
   ]
  },
  {
   "cell_type": "markdown",
   "id": "737b20ed",
   "metadata": {},
   "source": [
    "6. Убедимся в достоверности работы pip"
   ]
  },
  {
   "cell_type": "markdown",
   "id": "1f75a6ae",
   "metadata": {},
   "source": [
    "![](https://sun9-85.userapi.com/impg/PgiwPMAc3H8uKFqcAk2HV675OqR3L0imCIbmdw/kvmv3jo8BkE.jpg?size=960x194&quality=96&sign=95adde64ab06d7382a8957d141a5d5d9&type=album)"
   ]
  },
  {
   "cell_type": "markdown",
   "id": "b38c1992",
   "metadata": {},
   "source": [
    "7. Скачиваем модуль для создания виртуальных окружений"
   ]
  },
  {
   "cell_type": "markdown",
   "id": "4249fe8c",
   "metadata": {},
   "source": [
    "![](https://sun9-81.userapi.com/impg/qIQLIdWDGJbNTnaDgxZ1yDC50B75z39BVlKdvQ/sLDGq1BQfsg.jpg?size=1280x194&quality=96&sign=e4432e59318e3b8478843bc1b2b6bfc5&type=album)"
   ]
  },
  {
   "cell_type": "markdown",
   "id": "b11fe1cb",
   "metadata": {},
   "source": [
    "8.Прописываем путь в панели управления"
   ]
  },
  {
   "cell_type": "markdown",
   "id": "e0218799",
   "metadata": {},
   "source": [
    "![](https://sun9-27.userapi.com/impg/Ciqc8N8nZdWIFTA6rH7CtVpObhwt-WtYjF-mDw/i7lOoWZj0qo.jpg?size=1280x680&quality=96&sign=1cb4021bc452375a20b31dea090492a6&type=album)"
   ]
  },
  {
   "cell_type": "markdown",
   "id": "349e07dd",
   "metadata": {},
   "source": [
    "![](https://sun9-15.userapi.com/impg/FZoksW86yibUx5hZwPdmvQ0K7SdrkHvTyQGetA/ME8noN23y54.jpg?size=1125x80&quality=96&sign=2b8750036067a90b8b90c5d958ff3e81&type=album)"
   ]
  },
  {
   "cell_type": "markdown",
   "id": "0446ddf2",
   "metadata": {},
   "source": [
    "9.Создаем виртуальное окружение"
   ]
  },
  {
   "cell_type": "markdown",
   "id": "5f3b1128",
   "metadata": {},
   "source": [
    "![](https://sun9-32.userapi.com/impg/SENM5DuqTyzD8I_eOZ4Tx0e9feWuC9U5VVl8Zg/8MGgM0fpC10.jpg?size=784x38&quality=96&sign=413531583ae6e9b6e2a1755a45a53d74&type=album)"
   ]
  },
  {
   "cell_type": "markdown",
   "id": "0b88dc3c",
   "metadata": {},
   "source": [
    "В указанном каталоге появляется созданное нами окружение"
   ]
  },
  {
   "cell_type": "markdown",
   "id": "5adfd5c4",
   "metadata": {},
   "source": [
    "![](https://sun9-22.userapi.com/impg/vRGjdnOGG-N-rf_WqZNP_zTdwIZzzBCXHbJGmQ/OP0KJzwVN0k.jpg?size=725x88&quality=96&sign=107088e305f1cfc54d2da6de22583054&type=album)"
   ]
  },
  {
   "cell_type": "markdown",
   "id": "4f0ac076",
   "metadata": {},
   "source": [
    "10.Активируем виртуальное окружение"
   ]
  },
  {
   "cell_type": "markdown",
   "id": "3834b502",
   "metadata": {},
   "source": [
    "![](https://sun9-87.userapi.com/impg/WwH4KmVgpsFkvocGYPYH01I6RoUPz9tiyM3D2Q/uPMbdtaFl_w.jpg?size=776x37&quality=96&sign=58d612c58e1cc0992cfa8dda78f4c6bd&type=album)"
   ]
  },
  {
   "cell_type": "markdown",
   "id": "7e4f1b04",
   "metadata": {},
   "source": [
    "11. Загружаем в проект необходимые нам библиотеки"
   ]
  },
  {
   "cell_type": "markdown",
   "id": "5966321d",
   "metadata": {},
   "source": [
    "![](https://sun9-85.userapi.com/impg/iZphplxR2Y_VWJwPcZ8TB7_cbx78nejCJj3nQQ/5TV2M-FkGek.jpg?size=1045x352&quality=96&sign=6b10001c3f2d950acecb80fb12faf621&type=album)"
   ]
  },
  {
   "cell_type": "markdown",
   "id": "49be0b35",
   "metadata": {},
   "source": [
    "![](https://sun9-59.userapi.com/impg/xdA6ZU7bNzAvFQycUzngPTu3yDoKRTjviBnBWA/CFyB25awxZ8.jpg?size=1280x190&quality=96&sign=ec78734e1946d26d0fdab4f3222f34a0&type=album)"
   ]
  },
  {
   "cell_type": "markdown",
   "id": "fbeff5c0",
   "metadata": {},
   "source": [
    "![](https://sun9-42.userapi.com/impg/v8PvkSQ3sPPopquMsh2_IBKURB4s7E35WxhiAA/grRfE3-mltQ.jpg?size=1280x337&quality=96&sign=23f1f4cb71f5cea57261a5cb1e071c4c&type=album)"
   ]
  },
  {
   "cell_type": "markdown",
   "id": "fdb916da",
   "metadata": {},
   "source": [
    "Проверяем их появление в папке"
   ]
  },
  {
   "cell_type": "markdown",
   "id": "1ff00168",
   "metadata": {},
   "source": [
    "![](https://sun9-88.userapi.com/impg/4uPupPxBCIXID6XJKwl0A2dEO5LcPVIG3W34cQ/x-vTKFS1pA4.jpg?size=910x314&quality=96&sign=a7bd0d9b12ee3d2face7d28e93634866&type=album)"
   ]
  },
  {
   "cell_type": "markdown",
   "id": "6e070736",
   "metadata": {},
   "source": [
    "![](https://sun9-31.userapi.com/impg/vrI4nkjHc0ehj3fioZoblA_39BPC4N7t1gsNwA/96dOa4SVZYk.jpg?size=918x223&quality=96&sign=6f3c44e362f7e661ca0152772de561e7&type=album)"
   ]
  },
  {
   "cell_type": "markdown",
   "id": "cf1311ce",
   "metadata": {},
   "source": [
    "12. Теперь установим библиотеки не локально, а через сеть с помощью программного обеспечения \"Anaconda\""
   ]
  },
  {
   "cell_type": "markdown",
   "id": "8328b2ec",
   "metadata": {},
   "source": [
    "![](https://sun9-67.userapi.com/impg/qyaq_PoVKYWtQKugy7-YzKDhxnsOWGCD7_oYNw/xL90dNFOjuM.jpg?size=1280x682&quality=96&sign=415f7866454e9dcf30bd7a73a8678020&type=album)"
   ]
  },
  {
   "cell_type": "markdown",
   "id": "78777096",
   "metadata": {},
   "source": [
    "Находим необходимые нам библиотеки и устанавливаем на свой ПК"
   ]
  },
  {
   "cell_type": "markdown",
   "id": "b3da5809",
   "metadata": {},
   "source": [
    "![](https://sun9-27.userapi.com/impg/EFVLxTBREn8Qukc-F50TU6r0IG7FDBS_SLgFPw/Ake8zfKn69E.jpg?size=1280x684&quality=96&sign=b8a763624fc903bfdb3f8384e1414fe4&type=album)"
   ]
  },
  {
   "cell_type": "markdown",
   "id": "db246fa8",
   "metadata": {},
   "source": [
    "![](https://sun9-8.userapi.com/impg/G8-iQcIZti3dFOFJgTzihU6BLkwcpcpTyNHmtw/AsTOLfl8FGo.jpg?size=1280x682&quality=96&sign=5896dd8a82de98af78e95c633d409abd&type=album)"
   ]
  },
  {
   "cell_type": "markdown",
   "id": "c206a5fc",
   "metadata": {},
   "source": [
    "Или же через \"https://pypi.org/\""
   ]
  },
  {
   "cell_type": "markdown",
   "id": "bd619fcb",
   "metadata": {},
   "source": [
    "![](https://sun9-77.userapi.com/impg/crUKrNG0MtGCl08uenEhQek2-WAyd2f4seB_1Q/qlGOmq4DFOo.jpg?size=1280x392&quality=96&sign=2333970e261a61409099b646474e4400&type=album)"
   ]
  },
  {
   "cell_type": "markdown",
   "id": "718e08ef",
   "metadata": {},
   "source": [
    "Проверяем наличие библиотек, проверить можно несколькими способами"
   ]
  },
  {
   "cell_type": "markdown",
   "id": "479fa6b8",
   "metadata": {},
   "source": [
    "![](https://sun7-13.userapi.com/impg/Xn0G3-CdsLEIE0lej9hN0LCB85Op65-4Cwi6Mw/ZzEC1rOVoIQ.jpg?size=265x339&quality=96&sign=cc6bd1f70165dcc5abb065ff98defb32&type=album)"
   ]
  },
  {
   "cell_type": "markdown",
   "id": "55e8eb3e",
   "metadata": {},
   "source": [
    "![](https://sun9-67.userapi.com/impg/ovq1FwI1AdIuUeyiHbC5egYqTk10DwjgF5sHiQ/LN90Y4vr18w.jpg?size=327x289&quality=96&sign=95cb6146797a0ddc47aa46f760b53bca&type=album)"
   ]
  },
  {
   "cell_type": "markdown",
   "id": "46435e06",
   "metadata": {},
   "source": [
    "![](https://sun7-9.userapi.com/impg/J4K1o3B2URDdqOKYD-O1brHvftI29zQW6tR8-g/YrO5qHpNiGM.jpg?size=414x427&quality=96&sign=e78e94da642a38464de04fdf6a28c84a&type=album)"
   ]
  },
  {
   "cell_type": "markdown",
   "id": "cf02319b",
   "metadata": {},
   "source": [
    "Запишем результаты в текстовый документ"
   ]
  },
  {
   "cell_type": "markdown",
   "id": "15b09b1b",
   "metadata": {},
   "source": [
    "![](https://sun9-2.userapi.com/impg/SeJWKAaKNQqC9PgEINZA5pAuaOb5VHVrfVEyng/hCVCVIMWzTg.jpg?size=362x34&quality=96&sign=1226fdb7d63232efa301845f8d9985e2&type=album)"
   ]
  },
  {
   "cell_type": "markdown",
   "id": "3e4fb90c",
   "metadata": {},
   "source": [
    "С помощью поиска по дереву каталогов компьютера находим нужный нам документ"
   ]
  },
  {
   "cell_type": "markdown",
   "id": "352dfea6",
   "metadata": {},
   "source": [
    "![](https://sun9-80.userapi.com/impg/shxYvP2w-EdXhqPFg8mPZmn9F5mzApEMOsxFUQ/yabOaU2zS0Q.jpg?size=1075x196&quality=96&sign=8bccc798e5c9da22f9d2e35b9df3a905&type=album)"
   ]
  },
  {
   "cell_type": "markdown",
   "id": "4098e8eb",
   "metadata": {},
   "source": [
    "Проверяем наполняемость файла"
   ]
  },
  {
   "cell_type": "markdown",
   "id": "809226a3",
   "metadata": {},
   "source": [
    "![](https://sun9-35.userapi.com/impg/0FnsA2igqBEcK3zhHZh7fQ6WA2Z6uYjC2x3Bqw/y1D2KovahKI.jpg?size=802x691&quality=96&sign=9129aac3a17edd59f308fab7c858b85d&type=album)"
   ]
  },
  {
   "cell_type": "markdown",
   "id": "c34bf8fa",
   "metadata": {},
   "source": [
    "![](https://sun9-24.userapi.com/impg/YTLTk5lW9H1XWsyezbPSUOCFfI6JzA8YaLF6_g/DZglTZmJzIQ.jpg?size=280x291&quality=96&sign=c0556a36a68878a6cc0d3c28cf3b3e33&type=album)"
   ]
  },
  {
   "cell_type": "code",
   "execution_count": null,
   "id": "017e4eec",
   "metadata": {},
   "outputs": [],
   "source": []
  }
 ],
 "metadata": {
  "kernelspec": {
   "display_name": "Python 3 (ipykernel)",
   "language": "python",
   "name": "python3"
  },
  "language_info": {
   "codemirror_mode": {
    "name": "ipython",
    "version": 3
   },
   "file_extension": ".py",
   "mimetype": "text/x-python",
   "name": "python",
   "nbconvert_exporter": "python",
   "pygments_lexer": "ipython3",
   "version": "3.9.12"
  }
 },
 "nbformat": 4,
 "nbformat_minor": 5
}
